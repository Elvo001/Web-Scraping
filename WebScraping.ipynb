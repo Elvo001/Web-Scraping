{
  "nbformat": 4,
  "nbformat_minor": 0,
  "metadata": {
    "colab": {
      "provenance": [],
      "authorship_tag": "ABX9TyMjIUqR+pvAzuQ4lJHeOLnU",
      "include_colab_link": true
    },
    "kernelspec": {
      "name": "python3",
      "display_name": "Python 3"
    },
    "language_info": {
      "name": "python"
    }
  },
  "cells": [
    {
      "cell_type": "markdown",
      "metadata": {
        "id": "view-in-github",
        "colab_type": "text"
      },
      "source": [
        "<a href=\"https://colab.research.google.com/github/Elvo001/Web-Scraping/blob/main/WebScraping.ipynb\" target=\"_parent\"><img src=\"https://colab.research.google.com/assets/colab-badge.svg\" alt=\"Open In Colab\"/></a>"
      ]
    },
    {
      "cell_type": "code",
      "execution_count": 1,
      "metadata": {
        "colab": {
          "base_uri": "https://localhost:8080/"
        },
        "id": "Nc8yc4T1IlP1",
        "outputId": "c2633328-0207-4c55-a6ae-f8929def22c2"
      },
      "outputs": [
        {
          "output_type": "stream",
          "name": "stdout",
          "text": [
            "    Rank                                Bank name  \\\n",
            "0      1  Industrial and Commercial Bank of China   \n",
            "1      2               Agricultural Bank of China   \n",
            "2      3                  China Construction Bank   \n",
            "3      4                            Bank of China   \n",
            "4      5                           JPMorgan Chase   \n",
            "..   ...                                      ...   \n",
            "95    96                            Handelsbanken   \n",
            "96    97                 Industrial Bank of Korea   \n",
            "97    98                                      DNB   \n",
            "98    99                      Qatar National Bank   \n",
            "99   100                                 VTB Bank   \n",
            "\n",
            "    Total assets (2023) (US$ billion)  \n",
            "0                             6303.44  \n",
            "1                             5623.12  \n",
            "2                             5400.28  \n",
            "3                             4578.28  \n",
            "4                             3875.39  \n",
            "..                                ...  \n",
            "95                             351.79  \n",
            "96                             345.81  \n",
            "97                             339.21  \n",
            "98                             338.14  \n",
            "99                             326.85  \n",
            "\n",
            "[100 rows x 3 columns]\n"
          ]
        }
      ],
      "source": [
        "import pandas as pd\n",
        "URL = 'https://en.wikipedia.org/wiki/List_of_largest_banks'\n",
        "tables = pd.read_html(URL)\n",
        "df = tables[0]\n",
        "print(df)"
      ]
    },
    {
      "cell_type": "code",
      "source": [
        "import pandas as pd\n",
        "URL = 'https://en.wikipedia.org/wiki/List_of_countries_by_GDP_(nominal)'\n",
        "tables = pd.read_html(URL)\n",
        "df = tables(2) # the required table will have index 2\n",
        "print(df)"
      ],
      "metadata": {
        "colab": {
          "base_uri": "https://localhost:8080/",
          "height": 193
        },
        "id": "OfNNRZhiJHmP",
        "outputId": "1534bcda-b7be-4651-ff56-112cee15fc95"
      },
      "execution_count": 2,
      "outputs": [
        {
          "output_type": "error",
          "ename": "TypeError",
          "evalue": "'list' object is not callable",
          "traceback": [
            "\u001b[0;31m---------------------------------------------------------------------------\u001b[0m",
            "\u001b[0;31mTypeError\u001b[0m                                 Traceback (most recent call last)",
            "\u001b[0;32m<ipython-input-2-17337faad414>\u001b[0m in \u001b[0;36m<cell line: 4>\u001b[0;34m()\u001b[0m\n\u001b[1;32m      2\u001b[0m \u001b[0mURL\u001b[0m \u001b[0;34m=\u001b[0m \u001b[0;34m'https://en.wikipedia.org/wiki/List_of_countries_by_GDP_(nominal)'\u001b[0m\u001b[0;34m\u001b[0m\u001b[0;34m\u001b[0m\u001b[0m\n\u001b[1;32m      3\u001b[0m \u001b[0mtables\u001b[0m \u001b[0;34m=\u001b[0m \u001b[0mpd\u001b[0m\u001b[0;34m.\u001b[0m\u001b[0mread_html\u001b[0m\u001b[0;34m(\u001b[0m\u001b[0mURL\u001b[0m\u001b[0;34m)\u001b[0m\u001b[0;34m\u001b[0m\u001b[0;34m\u001b[0m\u001b[0m\n\u001b[0;32m----> 4\u001b[0;31m \u001b[0mdf\u001b[0m \u001b[0;34m=\u001b[0m \u001b[0mtables\u001b[0m\u001b[0;34m(\u001b[0m\u001b[0;36m2\u001b[0m\u001b[0;34m)\u001b[0m \u001b[0;31m# the required table will have index 2\u001b[0m\u001b[0;34m\u001b[0m\u001b[0;34m\u001b[0m\u001b[0m\n\u001b[0m\u001b[1;32m      5\u001b[0m \u001b[0mprint\u001b[0m\u001b[0;34m(\u001b[0m\u001b[0mdf\u001b[0m\u001b[0;34m)\u001b[0m\u001b[0;34m\u001b[0m\u001b[0;34m\u001b[0m\u001b[0m\n",
            "\u001b[0;31mTypeError\u001b[0m: 'list' object is not callable"
          ]
        }
      ]
    },
    {
      "source": [
        "import pandas as pd\n",
        "URL = 'https://en.wikipedia.org/wiki/List_of_countries_by_GDP_(nominal)'\n",
        "tables = pd.read_html(URL)\n",
        "df = tables[2] # Access the third table (index 2) using square brackets\n",
        "print(df)"
      ],
      "cell_type": "code",
      "metadata": {
        "colab": {
          "base_uri": "https://localhost:8080/"
        },
        "id": "za4GdcUeJbjg",
        "outputId": "c09f1288-0c9f-46a5-d4b5-39d6a2b07f1c"
      },
      "execution_count": 3,
      "outputs": [
        {
          "output_type": "stream",
          "name": "stdout",
          "text": [
            "    Country/Territory IMF[1][13]            World Bank[14]             \\\n",
            "    Country/Territory   Forecast       Year       Estimate       Year   \n",
            "0               World  109529216       2024      105435540       2023   \n",
            "1       United States   28781083       2024       27360935       2023   \n",
            "2               China   18532633  [n 1]2024       17794782  [n 3]2023   \n",
            "3             Germany    4591100       2024        4456081       2023   \n",
            "4               Japan    4110452       2024        4212945       2023   \n",
            "..                ...        ...        ...            ...        ...   \n",
            "205          Kiribati        311       2024            279       2023   \n",
            "206             Palau        308       2024            263       2023   \n",
            "207  Marshall Islands        305       2024            284       2023   \n",
            "208             Nauru        161       2024            154       2023   \n",
            "209            Tuvalu         66       2024             62       2023   \n",
            "\n",
            "    United Nations[15]             \n",
            "              Estimate       Year  \n",
            "0            100834796       2022  \n",
            "1             25744100       2022  \n",
            "2             17963170  [n 1]2022  \n",
            "3              4076923       2022  \n",
            "4              4232173       2022  \n",
            "..                 ...        ...  \n",
            "205                223       2022  \n",
            "206                225       2022  \n",
            "207                279       2022  \n",
            "208                147       2022  \n",
            "209                 59       2022  \n",
            "\n",
            "[210 rows x 7 columns]\n"
          ]
        }
      ]
    }
  ]
}